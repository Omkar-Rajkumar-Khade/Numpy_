{
 "cells": [
  {
   "cell_type": "markdown",
   "id": "ccec96b0",
   "metadata": {},
   "source": [
    " # Numpy String operations"
   ]
  },
  {
   "cell_type": "code",
   "execution_count": 1,
   "id": "7bc2ce19",
   "metadata": {},
   "outputs": [],
   "source": [
    "import numpy as np"
   ]
  },
  {
   "cell_type": "code",
   "execution_count": 30,
   "id": "b1182b74",
   "metadata": {},
   "outputs": [],
   "source": [
    "str1='I am Indian'\n",
    "str2=\"I am from pune\""
   ]
  },
  {
   "cell_type": "code",
   "execution_count": 5,
   "id": "bae3f53f",
   "metadata": {},
   "outputs": [
    {
     "data": {
      "text/plain": [
       "array('I am indian I am from pune', dtype='<U26')"
      ]
     },
     "execution_count": 5,
     "metadata": {},
     "output_type": "execute_result"
    }
   ],
   "source": [
    "#Concatination Strings\n",
    "np.char.add(str1,str2)"
   ]
  },
  {
   "cell_type": "code",
   "execution_count": 15,
   "id": "58226e4b",
   "metadata": {},
   "outputs": [
    {
     "data": {
      "text/plain": [
       "array('I am indianI am indianI am indian', dtype='<U33')"
      ]
     },
     "execution_count": 15,
     "metadata": {},
     "output_type": "execute_result"
    }
   ],
   "source": [
    "#Mutiply string by 3 times\n",
    "(np.char.multiply(str1,3))  "
   ]
  },
  {
   "cell_type": "code",
   "execution_count": 26,
   "id": "bd768b9a",
   "metadata": {},
   "outputs": [
    {
     "name": "stdout",
     "output_type": "stream",
     "text": [
      "**********Javatpoint**********\n"
     ]
    }
   ],
   "source": [
    "#Give padding to string and bring it at centre\n",
    "print(np.char.center(\"Javatpoint\",30,\"*\"))  "
   ]
  },
  {
   "cell_type": "code",
   "execution_count": 28,
   "id": "d6c3b026",
   "metadata": {},
   "outputs": [
    {
     "data": {
      "text/plain": [
       "array('I Am Indian', dtype='<U11')"
      ]
     },
     "execution_count": 28,
     "metadata": {},
     "output_type": "execute_result"
    }
   ],
   "source": [
    "#bring string in title format\n",
    "(np.char.title(str1))  "
   ]
  },
  {
   "cell_type": "code",
   "execution_count": 29,
   "id": "4b934f87",
   "metadata": {},
   "outputs": [
    {
     "data": {
      "text/plain": [
       "array('i am indian', dtype='<U11')"
      ]
     },
     "execution_count": 29,
     "metadata": {},
     "output_type": "execute_result"
    }
   ],
   "source": [
    "#convert string to lower format\n",
    "(np.char.lower(str1))  "
   ]
  },
  {
   "cell_type": "code",
   "execution_count": 32,
   "id": "34ab2749",
   "metadata": {},
   "outputs": [
    {
     "data": {
      "text/plain": [
       "array('I AM INDIAN', dtype='<U11')"
      ]
     },
     "execution_count": 32,
     "metadata": {},
     "output_type": "execute_result"
    }
   ],
   "source": [
    "#convert string to upper format\n",
    "(np.char.upper(str1))  "
   ]
  },
  {
   "cell_type": "code",
   "execution_count": 41,
   "id": "cab53cc6",
   "metadata": {},
   "outputs": [
    {
     "name": "stdout",
     "output_type": "stream",
     "text": [
      "['I', 'am', 'Indian']\n"
     ]
    }
   ],
   "source": [
    "#split string into parts\n",
    "print(np.char.split(str1),sep = \" \")  "
   ]
  },
  {
   "cell_type": "code",
   "execution_count": 44,
   "id": "cb15465b",
   "metadata": {},
   "outputs": [
    {
     "data": {
      "text/plain": [
       "array(['I: :a:m: :I:n:d:i:a:n'], dtype='<U21')"
      ]
     },
     "execution_count": 44,
     "metadata": {},
     "output_type": "execute_result"
    }
   ],
   "source": [
    "#JOin String with special character :\n",
    "(np.char.join(':',[str1])) "
   ]
  },
  {
   "cell_type": "code",
   "execution_count": 53,
   "id": "08a1a636",
   "metadata": {},
   "outputs": [
    {
     "name": "stdout",
     "output_type": "stream",
     "text": [
      "5\n",
      "-1\n"
     ]
    }
   ],
   "source": [
    "#used to find particular element in string\n",
    "print(np.char.find(str1,\"Indian\")) #if pesent it will give index number\n",
    "print(np.char.find(str1,\"are\"))#if not present then it will give -1"
   ]
  },
  {
   "cell_type": "code",
   "execution_count": null,
   "id": "7886c538",
   "metadata": {},
   "outputs": [],
   "source": []
  }
 ],
 "metadata": {
  "kernelspec": {
   "display_name": "Python 3 (ipykernel)",
   "language": "python",
   "name": "python3"
  },
  "language_info": {
   "codemirror_mode": {
    "name": "ipython",
    "version": 3
   },
   "file_extension": ".py",
   "mimetype": "text/x-python",
   "name": "python",
   "nbconvert_exporter": "python",
   "pygments_lexer": "ipython3",
   "version": "3.9.12"
  }
 },
 "nbformat": 4,
 "nbformat_minor": 5
}
