{
 "cells": [
  {
   "cell_type": "markdown",
   "id": "99f474d1",
   "metadata": {},
   "source": [
    "# Numpy Mathematical Operations"
   ]
  },
  {
   "cell_type": "code",
   "execution_count": 1,
   "id": "cfcadc94",
   "metadata": {},
   "outputs": [
    {
     "name": "stdout",
     "output_type": "stream",
     "text": [
      "[1 3 4 5 6 7 8 9 1]\n",
      "[ 2  1  3  4  5  6  7  8 14]\n"
     ]
    },
    {
     "data": {
      "text/plain": [
       "numpy.ndarray"
      ]
     },
     "execution_count": 1,
     "metadata": {},
     "output_type": "execute_result"
    }
   ],
   "source": [
    "import numpy as np\n",
    "arr1=np.array([1,3,4,5,6,7,8,9,1])\n",
    "arr2=np.array([2,1,3,4,5,6,7,8,14])\n",
    "print(arr1)\n",
    "print(arr2)\n",
    "type(arr1)"
   ]
  },
  {
   "cell_type": "code",
   "execution_count": 2,
   "id": "75f99ed9",
   "metadata": {},
   "outputs": [
    {
     "data": {
      "text/plain": [
       "array([ 3,  4,  7,  9, 11, 13, 15, 17, 15])"
      ]
     },
     "execution_count": 2,
     "metadata": {},
     "output_type": "execute_result"
    }
   ],
   "source": [
    "# add 2 arrays\n",
    "np.add(arr1,arr2)"
   ]
  },
  {
   "cell_type": "code",
   "execution_count": 3,
   "id": "f06fe5f5",
   "metadata": {},
   "outputs": [
    {
     "data": {
      "text/plain": [
       "array([ -1,   2,   1,   1,   1,   1,   1,   1, -13])"
      ]
     },
     "execution_count": 3,
     "metadata": {},
     "output_type": "execute_result"
    }
   ],
   "source": [
    "#Subtract 2 arrays\n",
    "np.subtract(arr1,arr2)"
   ]
  },
  {
   "cell_type": "code",
   "execution_count": 4,
   "id": "a7db70cc",
   "metadata": {},
   "outputs": [
    {
     "data": {
      "text/plain": [
       "array([ 2,  3, 12, 20, 30, 42, 56, 72, 14])"
      ]
     },
     "execution_count": 4,
     "metadata": {},
     "output_type": "execute_result"
    }
   ],
   "source": [
    "#multipy 2 arrays\n",
    "np.multiply(arr1,arr2)"
   ]
  },
  {
   "cell_type": "code",
   "execution_count": 5,
   "id": "6d07f03a",
   "metadata": {},
   "outputs": [
    {
     "data": {
      "text/plain": [
       "array([0.5       , 3.        , 1.33333333, 1.25      , 1.2       ,\n",
       "       1.16666667, 1.14285714, 1.125     , 0.07142857])"
      ]
     },
     "execution_count": 5,
     "metadata": {},
     "output_type": "execute_result"
    }
   ],
   "source": [
    "#divide 2 arrays\n",
    "np.divide(arr1,arr2)"
   ]
  },
  {
   "cell_type": "code",
   "execution_count": 6,
   "id": "89fcf957",
   "metadata": {},
   "outputs": [
    {
     "name": "stdout",
     "output_type": "stream",
     "text": [
      "[[1 3 4]\n",
      " [5 6 7]\n",
      " [8 9 1]]\n"
     ]
    }
   ],
   "source": [
    "arr1_new=arr1.reshape(3,3)\n",
    "print(arr1_new)"
   ]
  },
  {
   "cell_type": "code",
   "execution_count": 7,
   "id": "66e570b0",
   "metadata": {},
   "outputs": [
    {
     "data": {
      "text/plain": [
       "9"
      ]
     },
     "execution_count": 7,
     "metadata": {},
     "output_type": "execute_result"
    }
   ],
   "source": [
    "#maximum of arr1 \n",
    "np.max(arr1_new)"
   ]
  },
  {
   "cell_type": "code",
   "execution_count": 8,
   "id": "5a2e6290",
   "metadata": {},
   "outputs": [
    {
     "data": {
      "text/plain": [
       "7"
      ]
     },
     "execution_count": 8,
     "metadata": {},
     "output_type": "execute_result"
    }
   ],
   "source": [
    "#index of maximum number\n",
    "np.argmax(arr1_new)"
   ]
  },
  {
   "cell_type": "code",
   "execution_count": 9,
   "id": "8171592d",
   "metadata": {},
   "outputs": [
    {
     "data": {
      "text/plain": [
       "array([8, 9, 7])"
      ]
     },
     "execution_count": 9,
     "metadata": {},
     "output_type": "execute_result"
    }
   ],
   "source": [
    "#Row wise maximum number\n",
    "np.max(arr1_new,axis=0)"
   ]
  },
  {
   "cell_type": "code",
   "execution_count": 12,
   "id": "2fb81c17",
   "metadata": {},
   "outputs": [
    {
     "data": {
      "text/plain": [
       "array([4, 7, 9])"
      ]
     },
     "execution_count": 12,
     "metadata": {},
     "output_type": "execute_result"
    }
   ],
   "source": [
    "#column wise maximum number\n",
    "np.max(arr1_new,axis=1)"
   ]
  },
  {
   "cell_type": "code",
   "execution_count": 11,
   "id": "11222c0f",
   "metadata": {},
   "outputs": [
    {
     "data": {
      "text/plain": [
       "1"
      ]
     },
     "execution_count": 11,
     "metadata": {},
     "output_type": "execute_result"
    }
   ],
   "source": [
    "#minimum of arr1 \n",
    "np.min(arr1_new)"
   ]
  },
  {
   "cell_type": "code",
   "execution_count": 13,
   "id": "ab950cce",
   "metadata": {},
   "outputs": [
    {
     "data": {
      "text/plain": [
       "0"
      ]
     },
     "execution_count": 13,
     "metadata": {},
     "output_type": "execute_result"
    }
   ],
   "source": [
    "#index of minimum number\n",
    "np.argmin(arr1_new)"
   ]
  },
  {
   "cell_type": "code",
   "execution_count": 14,
   "id": "213426f6",
   "metadata": {},
   "outputs": [
    {
     "data": {
      "text/plain": [
       "array([1, 3, 1])"
      ]
     },
     "execution_count": 14,
     "metadata": {},
     "output_type": "execute_result"
    }
   ],
   "source": [
    "#Row wise minimum number\n",
    "np.min(arr1_new,axis=0)"
   ]
  },
  {
   "cell_type": "code",
   "execution_count": 15,
   "id": "900b3cc4",
   "metadata": {},
   "outputs": [
    {
     "data": {
      "text/plain": [
       "array([1, 5, 1])"
      ]
     },
     "execution_count": 15,
     "metadata": {},
     "output_type": "execute_result"
    }
   ],
   "source": [
    "#column wise minimum number\n",
    "np.min(arr1_new,axis=1)"
   ]
  },
  {
   "cell_type": "code",
   "execution_count": 19,
   "id": "4f5074a6",
   "metadata": {},
   "outputs": [
    {
     "data": {
      "text/plain": [
       "44"
      ]
     },
     "execution_count": 19,
     "metadata": {},
     "output_type": "execute_result"
    }
   ],
   "source": [
    "#sum of all array elements\n",
    "np.sum(arr1_new)"
   ]
  },
  {
   "cell_type": "code",
   "execution_count": 21,
   "id": "928d0138",
   "metadata": {},
   "outputs": [
    {
     "data": {
      "text/plain": [
       "array([ 8, 18, 18])"
      ]
     },
     "execution_count": 21,
     "metadata": {},
     "output_type": "execute_result"
    }
   ],
   "source": [
    "#sum of all array row wise\n",
    "np.sum(arr1_new,axis=1)"
   ]
  },
  {
   "cell_type": "code",
   "execution_count": 22,
   "id": "636aa82c",
   "metadata": {},
   "outputs": [
    {
     "data": {
      "text/plain": [
       "array([14, 18, 12])"
      ]
     },
     "execution_count": 22,
     "metadata": {},
     "output_type": "execute_result"
    }
   ],
   "source": [
    "#column wise sum of elements\n",
    "np.sum(arr1_new,axis=0)"
   ]
  },
  {
   "cell_type": "code",
   "execution_count": 25,
   "id": "84342d84",
   "metadata": {},
   "outputs": [
    {
     "data": {
      "text/plain": [
       "4.888888888888889"
      ]
     },
     "execution_count": 25,
     "metadata": {},
     "output_type": "execute_result"
    }
   ],
   "source": [
    "#mean of all array elements\n",
    "np.mean(arr1_new)"
   ]
  },
  {
   "cell_type": "code",
   "execution_count": 26,
   "id": "f6bef10b",
   "metadata": {},
   "outputs": [
    {
     "data": {
      "text/plain": [
       "array([[1.        , 1.73205081, 2.        ],\n",
       "       [2.23606798, 2.44948974, 2.64575131],\n",
       "       [2.82842712, 3.        , 1.        ]])"
      ]
     },
     "execution_count": 26,
     "metadata": {},
     "output_type": "execute_result"
    }
   ],
   "source": [
    "#square root of all array elements\n",
    "np.sqrt(arr1_new)"
   ]
  },
  {
   "cell_type": "code",
   "execution_count": 27,
   "id": "01843f61",
   "metadata": {},
   "outputs": [
    {
     "data": {
      "text/plain": [
       "array([[2.71828183e+00, 2.00855369e+01, 5.45981500e+01],\n",
       "       [1.48413159e+02, 4.03428793e+02, 1.09663316e+03],\n",
       "       [2.98095799e+03, 8.10308393e+03, 2.71828183e+00]])"
      ]
     },
     "execution_count": 27,
     "metadata": {},
     "output_type": "execute_result"
    }
   ],
   "source": [
    "#exponential of all array elements\n",
    "np.exp(arr1_new)"
   ]
  },
  {
   "cell_type": "code",
   "execution_count": 28,
   "id": "b8a81784",
   "metadata": {},
   "outputs": [
    {
     "data": {
      "text/plain": [
       "array([[0.        , 1.09861229, 1.38629436],\n",
       "       [1.60943791, 1.79175947, 1.94591015],\n",
       "       [2.07944154, 2.19722458, 0.        ]])"
      ]
     },
     "execution_count": 28,
     "metadata": {},
     "output_type": "execute_result"
    }
   ],
   "source": [
    "#natural log of array elements\n",
    "np.log(arr1_new)"
   ]
  },
  {
   "cell_type": "code",
   "execution_count": 30,
   "id": "4f5c1661",
   "metadata": {},
   "outputs": [
    {
     "data": {
      "text/plain": [
       "array([[0.        , 0.47712125, 0.60205999],\n",
       "       [0.69897   , 0.77815125, 0.84509804],\n",
       "       [0.90308999, 0.95424251, 0.        ]])"
      ]
     },
     "execution_count": 30,
     "metadata": {},
     "output_type": "execute_result"
    }
   ],
   "source": [
    "#log base to 10 of array elements\n",
    "np.log10(arr1_new)"
   ]
  },
  {
   "cell_type": "code",
   "execution_count": null,
   "id": "28f8572f",
   "metadata": {},
   "outputs": [],
   "source": []
  }
 ],
 "metadata": {
  "kernelspec": {
   "display_name": "Python 3 (ipykernel)",
   "language": "python",
   "name": "python3"
  },
  "language_info": {
   "codemirror_mode": {
    "name": "ipython",
    "version": 3
   },
   "file_extension": ".py",
   "mimetype": "text/x-python",
   "name": "python",
   "nbconvert_exporter": "python",
   "pygments_lexer": "ipython3",
   "version": "3.9.12"
  }
 },
 "nbformat": 4,
 "nbformat_minor": 5
}
