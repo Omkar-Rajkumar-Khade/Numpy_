{
 "cells": [
  {
   "cell_type": "markdown",
   "id": "de21a26a",
   "metadata": {},
   "source": [
    "# Some Basic Numpy Operations"
   ]
  },
  {
   "cell_type": "code",
   "execution_count": 1,
   "id": "d8379f79",
   "metadata": {},
   "outputs": [
    {
     "name": "stdout",
     "output_type": "stream",
     "text": [
      "[1 2 3]\n"
     ]
    }
   ],
   "source": [
    "import numpy as np \n",
    "a = np.array([1,2,3]) #create 1d aarray\n",
    "print(a)"
   ]
  },
  {
   "cell_type": "code",
   "execution_count": 2,
   "id": "98501337",
   "metadata": {},
   "outputs": [
    {
     "name": "stdout",
     "output_type": "stream",
     "text": [
      "[[1 2 3 4]\n",
      " [5 6 7 8]]\n"
     ]
    }
   ],
   "source": [
    "a_2d=np.array([[1,2,3,4],[5,6,7,8]]) #creating 2d array\n",
    "print(a_2d)"
   ]
  },
  {
   "cell_type": "code",
   "execution_count": 3,
   "id": "b0117198",
   "metadata": {},
   "outputs": [
    {
     "data": {
      "text/plain": [
       "numpy.ndarray"
      ]
     },
     "execution_count": 3,
     "metadata": {},
     "output_type": "execute_result"
    }
   ],
   "source": [
    "type(a) #printing type of entity\n",
    "type(a_2d)"
   ]
  },
  {
   "cell_type": "code",
   "execution_count": 4,
   "id": "86c3e65e",
   "metadata": {},
   "outputs": [
    {
     "data": {
      "text/plain": [
       "2"
      ]
     },
     "execution_count": 4,
     "metadata": {},
     "output_type": "execute_result"
    }
   ],
   "source": [
    "#print dimensions of array\n",
    "a_2d.ndim"
   ]
  },
  {
   "cell_type": "code",
   "execution_count": 5,
   "id": "d5ea3ad1",
   "metadata": {},
   "outputs": [
    {
     "data": {
      "text/plain": [
       "8"
      ]
     },
     "execution_count": 5,
     "metadata": {},
     "output_type": "execute_result"
    }
   ],
   "source": [
    "#print element count in array\n",
    "a_2d.size"
   ]
  },
  {
   "cell_type": "code",
   "execution_count": 6,
   "id": "5132c993",
   "metadata": {},
   "outputs": [
    {
     "data": {
      "text/plain": [
       "(2, 4)"
      ]
     },
     "execution_count": 6,
     "metadata": {},
     "output_type": "execute_result"
    }
   ],
   "source": [
    "#print shape i.e. no of rows and columns in array\n",
    "a_2d.shape"
   ]
  },
  {
   "cell_type": "code",
   "execution_count": 7,
   "id": "7319917e",
   "metadata": {},
   "outputs": [
    {
     "data": {
      "text/plain": [
       "dtype('int32')"
      ]
     },
     "execution_count": 7,
     "metadata": {},
     "output_type": "execute_result"
    }
   ],
   "source": [
    "#print array element datatype\n",
    "a_2d.dtype"
   ]
  },
  {
   "cell_type": "code",
   "execution_count": 8,
   "id": "1556a4f9",
   "metadata": {},
   "outputs": [
    {
     "name": "stdout",
     "output_type": "stream",
     "text": [
      "[[1 1 1 1 1]\n",
      " [1 1 1 1 1]\n",
      " [1 1 1 1 1]\n",
      " [1 1 1 1 1]\n",
      " [1 1 1 1 1]]\n",
      "[[1. 1. 1. 1. 1.]\n",
      " [1. 1. 1. 1. 1.]\n",
      " [1. 1. 1. 1. 1.]\n",
      " [1. 1. 1. 1. 1.]\n",
      " [1. 1. 1. 1. 1.]]\n"
     ]
    }
   ],
   "source": [
    "#1s Matrix \n",
    "mx_1s=np.ones((5,5),dtype=int)\n",
    "fx_1s=np.ones((5,5),dtype=float)\n",
    "print(mx_1s)\n",
    "print(fx_1s)"
   ]
  },
  {
   "cell_type": "code",
   "execution_count": 9,
   "id": "0ba173d1",
   "metadata": {},
   "outputs": [
    {
     "name": "stdout",
     "output_type": "stream",
     "text": [
      "[[0 0 0 0 0]\n",
      " [0 0 0 0 0]\n",
      " [0 0 0 0 0]\n",
      " [0 0 0 0 0]\n",
      " [0 0 0 0 0]]\n",
      "[[0. 0. 0. 0. 0.]\n",
      " [0. 0. 0. 0. 0.]\n",
      " [0. 0. 0. 0. 0.]\n",
      " [0. 0. 0. 0. 0.]\n",
      " [0. 0. 0. 0. 0.]]\n"
     ]
    }
   ],
   "source": [
    "#0s Matrix \n",
    "mx_1s=np.zeros((5,5),dtype=int)\n",
    "fx_1s=np.zeros((5,5),dtype=float)\n",
    "print(mx_1s)\n",
    "print(fx_1s)"
   ]
  },
  {
   "cell_type": "code",
   "execution_count": 10,
   "id": "034430a6",
   "metadata": {},
   "outputs": [
    {
     "name": "stdout",
     "output_type": "stream",
     "text": [
      "[[0. 0. 0. 0. 0.]\n",
      " [0. 0. 0. 0. 0.]\n",
      " [0. 0. 0. 0. 0.]]\n"
     ]
    }
   ],
   "source": [
    "#create empty set containing random values\n",
    "emptyset=np.empty((3,5))\n",
    "print(emptyset)"
   ]
  },
  {
   "cell_type": "code",
   "execution_count": 11,
   "id": "0e2161b7",
   "metadata": {},
   "outputs": [
    {
     "name": "stdout",
     "output_type": "stream",
     "text": [
      "[ 1  2  3  4  5  6  7  8  9 10 11 12]\n",
      "[ 2  4  6  8 10]\n",
      "[ 1  3  5  7  9 11]\n"
     ]
    }
   ],
   "source": [
    "#create array from range 1 to 12\n",
    "arr1=np.arange(1,13)\n",
    "print(arr1)\n",
    "#create array of even numbers from range 1 to 12\n",
    "arr_even=np.arange(2,12,2)\n",
    "print(arr_even)\n",
    "#create array of odd numbers from range 1 to 12\n",
    "arr_odd=np.arange(1,12,2)\n",
    "print(arr_odd)"
   ]
  },
  {
   "cell_type": "code",
   "execution_count": 12,
   "id": "e54a646c",
   "metadata": {},
   "outputs": [
    {
     "name": "stdout",
     "output_type": "stream",
     "text": [
      "[[ 1  2  3  4  5  6]\n",
      " [ 7  8  9 10 11 12]]\n"
     ]
    }
   ],
   "source": [
    "#change dimensions of array from 1d ro 2d\n",
    "arr1_new=arr1.reshape(2,6)\n",
    "print(arr1_new)"
   ]
  },
  {
   "cell_type": "code",
   "execution_count": 13,
   "id": "3b390339",
   "metadata": {},
   "outputs": [
    {
     "name": "stdout",
     "output_type": "stream",
     "text": [
      "[[ 1  2  3  4]\n",
      " [ 5  6  7  8]\n",
      " [ 9 10 11 12]]\n"
     ]
    }
   ],
   "source": [
    "#change dimensions of array from 1d ro 3d\n",
    "arr1_new3d=arr1.reshape(3,4)\n",
    "print(arr1_new3d)"
   ]
  },
  {
   "cell_type": "code",
   "execution_count": 14,
   "id": "8e5ae932",
   "metadata": {},
   "outputs": [
    {
     "name": "stdout",
     "output_type": "stream",
     "text": [
      "[ 1  2  3  4  5  6  7  8  9 10 11 12]\n",
      "[ 1  2  3  4  5  6  7  8  9 10 11 12]\n"
     ]
    }
   ],
   "source": [
    "#convert multidimensional array to 1d array\n",
    "arr_new1d=arr1_new3d.ravel()\n",
    "arr_new1d_2=arr1_new3d.flatten()\n",
    "print(arr_new1d)\n",
    "print(arr_new1d_2)"
   ]
  },
  {
   "cell_type": "code",
   "execution_count": 15,
   "id": "137dad49",
   "metadata": {},
   "outputs": [
    {
     "name": "stdout",
     "output_type": "stream",
     "text": [
      "[[ 1  5  9]\n",
      " [ 2  6 10]\n",
      " [ 3  7 11]\n",
      " [ 4  8 12]]\n"
     ]
    }
   ],
   "source": [
    "#do transpose of matrix\n",
    "arr1_tanspose=arr1_new3d.transpose()\n",
    "print(arr1_tanspose)"
   ]
  },
  {
   "cell_type": "code",
   "execution_count": null,
   "id": "5f7861e0",
   "metadata": {},
   "outputs": [],
   "source": []
  }
 ],
 "metadata": {
  "kernelspec": {
   "display_name": "Python 3 (ipykernel)",
   "language": "python",
   "name": "python3"
  },
  "language_info": {
   "codemirror_mode": {
    "name": "ipython",
    "version": 3
   },
   "file_extension": ".py",
   "mimetype": "text/x-python",
   "name": "python",
   "nbconvert_exporter": "python",
   "pygments_lexer": "ipython3",
   "version": "3.9.12"
  }
 },
 "nbformat": 4,
 "nbformat_minor": 5
}
