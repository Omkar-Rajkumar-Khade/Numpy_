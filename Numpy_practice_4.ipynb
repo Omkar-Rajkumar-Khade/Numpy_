{
 "cells": [
  {
   "cell_type": "markdown",
   "id": "a7e2ea53",
   "metadata": {},
   "source": [
    "# Numpy Array Conctination & Split"
   ]
  },
  {
   "cell_type": "code",
   "execution_count": 1,
   "id": "9a02679a",
   "metadata": {},
   "outputs": [
    {
     "name": "stdout",
     "output_type": "stream",
     "text": [
      "[[ 1  2  3  4  5  6  7  8  9 10]\n",
      " [11 12 13 14 15 16 17 18 19 20]\n",
      " [21 22 23 24 25 26 27 28 29 30]]\n",
      "[[31 32 33 34 35 36 37 38 39 40]\n",
      " [41 42 43 44 45 46 47 48 49 50]\n",
      " [51 52 53 54 55 56 57 58 59 60]]\n"
     ]
    }
   ],
   "source": [
    "import numpy as np\n",
    "mx=np.arange(1,31).reshape(3,10)\n",
    "my=np.arange(31,61).reshape(3,10)\n",
    "print(mx)\n",
    "print(my)"
   ]
  },
  {
   "cell_type": "code",
   "execution_count": 2,
   "id": "3ad03c85",
   "metadata": {},
   "outputs": [
    {
     "data": {
      "text/plain": [
       "array([[ 1,  2,  3,  4,  5,  6,  7,  8,  9, 10],\n",
       "       [11, 12, 13, 14, 15, 16, 17, 18, 19, 20],\n",
       "       [21, 22, 23, 24, 25, 26, 27, 28, 29, 30],\n",
       "       [31, 32, 33, 34, 35, 36, 37, 38, 39, 40],\n",
       "       [41, 42, 43, 44, 45, 46, 47, 48, 49, 50],\n",
       "       [51, 52, 53, 54, 55, 56, 57, 58, 59, 60]])"
      ]
     },
     "execution_count": 2,
     "metadata": {},
     "output_type": "execute_result"
    }
   ],
   "source": [
    "#concatinate 2 arrays column wise\n",
    "np.concatenate((mx,my))"
   ]
  },
  {
   "cell_type": "code",
   "execution_count": 3,
   "id": "c3618082",
   "metadata": {},
   "outputs": [
    {
     "data": {
      "text/plain": [
       "array([[ 1,  2,  3,  4,  5,  6,  7,  8,  9, 10, 31, 32, 33, 34, 35, 36,\n",
       "        37, 38, 39, 40],\n",
       "       [11, 12, 13, 14, 15, 16, 17, 18, 19, 20, 41, 42, 43, 44, 45, 46,\n",
       "        47, 48, 49, 50],\n",
       "       [21, 22, 23, 24, 25, 26, 27, 28, 29, 30, 51, 52, 53, 54, 55, 56,\n",
       "        57, 58, 59, 60]])"
      ]
     },
     "execution_count": 3,
     "metadata": {},
     "output_type": "execute_result"
    }
   ],
   "source": [
    "#concatinate 2 arrays Row wise\n",
    "np.concatenate((mx,my),axis=1)"
   ]
  },
  {
   "cell_type": "code",
   "execution_count": 4,
   "id": "ea1a962b",
   "metadata": {},
   "outputs": [
    {
     "data": {
      "text/plain": [
       "array([[ 1,  2,  3,  4,  5,  6,  7,  8,  9, 10],\n",
       "       [11, 12, 13, 14, 15, 16, 17, 18, 19, 20],\n",
       "       [21, 22, 23, 24, 25, 26, 27, 28, 29, 30],\n",
       "       [31, 32, 33, 34, 35, 36, 37, 38, 39, 40],\n",
       "       [41, 42, 43, 44, 45, 46, 47, 48, 49, 50],\n",
       "       [51, 52, 53, 54, 55, 56, 57, 58, 59, 60]])"
      ]
     },
     "execution_count": 4,
     "metadata": {},
     "output_type": "execute_result"
    }
   ],
   "source": [
    "#concatinate 2 arrays column wise\n",
    "np.vstack((mx,my))"
   ]
  },
  {
   "cell_type": "code",
   "execution_count": 5,
   "id": "5b3b7d74",
   "metadata": {},
   "outputs": [
    {
     "data": {
      "text/plain": [
       "array([[ 1,  2,  3,  4,  5,  6,  7,  8,  9, 10, 31, 32, 33, 34, 35, 36,\n",
       "        37, 38, 39, 40],\n",
       "       [11, 12, 13, 14, 15, 16, 17, 18, 19, 20, 41, 42, 43, 44, 45, 46,\n",
       "        47, 48, 49, 50],\n",
       "       [21, 22, 23, 24, 25, 26, 27, 28, 29, 30, 51, 52, 53, 54, 55, 56,\n",
       "        57, 58, 59, 60]])"
      ]
     },
     "execution_count": 5,
     "metadata": {},
     "output_type": "execute_result"
    }
   ],
   "source": [
    "#concatinate 2 arrays Row wise\n",
    "np.hstack((mx,my))"
   ]
  },
  {
   "cell_type": "code",
   "execution_count": 6,
   "id": "8f5eb3a7",
   "metadata": {},
   "outputs": [
    {
     "data": {
      "text/plain": [
       "[array([[31, 32, 33, 34, 35, 36, 37, 38, 39, 40]]),\n",
       " array([[41, 42, 43, 44, 45, 46, 47, 48, 49, 50]]),\n",
       " array([[51, 52, 53, 54, 55, 56, 57, 58, 59, 60]])]"
      ]
     },
     "execution_count": 6,
     "metadata": {},
     "output_type": "execute_result"
    }
   ],
   "source": [
    "#Split Array in n parts\n",
    "#number of array division(n) should equal to number of rows\n",
    "np.split(my,3)"
   ]
  },
  {
   "cell_type": "code",
   "execution_count": 7,
   "id": "c9b2bca1",
   "metadata": {},
   "outputs": [
    {
     "data": {
      "text/plain": [
       "[array([[31],\n",
       "        [41],\n",
       "        [51]]),\n",
       " array([[32],\n",
       "        [42],\n",
       "        [52]]),\n",
       " array([[33],\n",
       "        [43],\n",
       "        [53]]),\n",
       " array([[34],\n",
       "        [44],\n",
       "        [54]]),\n",
       " array([[35],\n",
       "        [45],\n",
       "        [55]]),\n",
       " array([[36],\n",
       "        [46],\n",
       "        [56]]),\n",
       " array([[37],\n",
       "        [47],\n",
       "        [57]]),\n",
       " array([[38],\n",
       "        [48],\n",
       "        [58]]),\n",
       " array([[39],\n",
       "        [49],\n",
       "        [59]]),\n",
       " array([[40],\n",
       "        [50],\n",
       "        [60]])]"
      ]
     },
     "execution_count": 7,
     "metadata": {},
     "output_type": "execute_result"
    }
   ],
   "source": [
    "#Split Array in n parts\n",
    "#number of array division(n) should equal to number of rows\n",
    "np.split(my,10,axis=1)"
   ]
  },
  {
   "cell_type": "code",
   "execution_count": null,
   "id": "9e643543",
   "metadata": {},
   "outputs": [],
   "source": []
  }
 ],
 "metadata": {
  "kernelspec": {
   "display_name": "Python 3 (ipykernel)",
   "language": "python",
   "name": "python3"
  },
  "language_info": {
   "codemirror_mode": {
    "name": "ipython",
    "version": 3
   },
   "file_extension": ".py",
   "mimetype": "text/x-python",
   "name": "python",
   "nbconvert_exporter": "python",
   "pygments_lexer": "ipython3",
   "version": "3.9.12"
  }
 },
 "nbformat": 4,
 "nbformat_minor": 5
}
