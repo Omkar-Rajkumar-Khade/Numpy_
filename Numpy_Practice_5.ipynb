{
 "cells": [
  {
   "cell_type": "markdown",
   "id": "7276a737",
   "metadata": {},
   "source": [
    "# Numpy Trignometric Operations"
   ]
  },
  {
   "cell_type": "code",
   "execution_count": 1,
   "id": "4ed08c8a",
   "metadata": {},
   "outputs": [],
   "source": [
    "import numpy as np\n",
    "arr = np.array([np.pi/2, np.pi/3, np.pi/4, np.pi/5])\n",
    "arr1 = np.array([90, 180, 270, 360])"
   ]
  },
  {
   "cell_type": "code",
   "execution_count": 2,
   "id": "f7f1eb24",
   "metadata": {},
   "outputs": [
    {
     "name": "stdout",
     "output_type": "stream",
     "text": [
      "[1.         0.8660254  0.70710678 0.58778525]\n"
     ]
    }
   ],
   "source": [
    "#print values of sin \n",
    "x = np.sin(arr)\n",
    "\n",
    "print(x)"
   ]
  },
  {
   "cell_type": "code",
   "execution_count": 3,
   "id": "e776700d",
   "metadata": {},
   "outputs": [
    {
     "name": "stdout",
     "output_type": "stream",
     "text": [
      "[6.12323400e-17 5.00000000e-01 7.07106781e-01 8.09016994e-01]\n"
     ]
    }
   ],
   "source": [
    "#print vslues of cos\n",
    "y = np.cos(arr)\n",
    "print(y)"
   ]
  },
  {
   "cell_type": "code",
   "execution_count": 4,
   "id": "31e25a04",
   "metadata": {},
   "outputs": [
    {
     "name": "stdout",
     "output_type": "stream",
     "text": [
      "[1.63312394e+16 1.73205081e+00 1.00000000e+00 7.26542528e-01]\n"
     ]
    }
   ],
   "source": [
    "#print vslues of tan\n",
    "z = np.tan(arr)\n",
    "print(z)"
   ]
  },
  {
   "cell_type": "code",
   "execution_count": 5,
   "id": "eed063ad",
   "metadata": {},
   "outputs": [
    {
     "name": "stdout",
     "output_type": "stream",
     "text": [
      "[1.57079633 3.14159265 4.71238898 6.28318531]\n"
     ]
    }
   ],
   "source": [
    "#convert from degree to radian\n",
    "a = np.deg2rad(arr1)\n",
    "print(a)"
   ]
  },
  {
   "cell_type": "code",
   "execution_count": 6,
   "id": "702b789c",
   "metadata": {},
   "outputs": [
    {
     "name": "stdout",
     "output_type": "stream",
     "text": [
      "[90. 60. 45. 36.]\n"
     ]
    }
   ],
   "source": [
    "#convert from radian to degree\n",
    "b = np.rad2deg(arr)\n",
    "print(b)"
   ]
  },
  {
   "cell_type": "code",
   "execution_count": 9,
   "id": "eacc9366",
   "metadata": {},
   "outputs": [
    {
     "name": "stdout",
     "output_type": "stream",
     "text": [
      "1.5707963267948966\n",
      "0.0\n",
      "0.7853981633974483\n"
     ]
    }
   ],
   "source": [
    "#convert given value to angle in radian\n",
    "c = np.arcsin(1.0)\n",
    "d = np.arccos(1.0)\n",
    "e = np.arctan(1.0)\n",
    "print(c)\n",
    "print(d)\n",
    "print(e)"
   ]
  },
  {
   "cell_type": "code",
   "execution_count": null,
   "id": "a5de8de9",
   "metadata": {},
   "outputs": [],
   "source": []
  }
 ],
 "metadata": {
  "kernelspec": {
   "display_name": "Python 3 (ipykernel)",
   "language": "python",
   "name": "python3"
  },
  "language_info": {
   "codemirror_mode": {
    "name": "ipython",
    "version": 3
   },
   "file_extension": ".py",
   "mimetype": "text/x-python",
   "name": "python",
   "nbconvert_exporter": "python",
   "pygments_lexer": "ipython3",
   "version": "3.9.12"
  }
 },
 "nbformat": 4,
 "nbformat_minor": 5
}
